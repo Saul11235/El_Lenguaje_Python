{
 "cells": [
  {
   "cell_type": "markdown",
   "id": "5b8a754c-91b9-4531-8041-e2270f4661d7",
   "metadata": {},
   "source": [
    "# Hola esto es codigo markdown\n",
    "no se ejecuta, sirve para documentar y hacer anotaciones\n",
    "markdown es sencillo, pero es muy flexible\n",
    "\n",
    "| podemos hacer | tablas   |\n",
    "|---------------|----------|\n",
    "| dato 1        | dato 2   |\n",
    "| dato 3        | dato 4   |\n",
    "\n",
    "tambien podemos hacer listas\n",
    "\n",
    "- item 1\n",
    "- item 2\n",
    "- item 3\n",
    "\n",
    "> podemos hacer citas literales  *texto en cursiva* **texto en negrita**\n",
    "\n",
    "enlaces [Texto del enlace](https://edwinsaul.com)\n",
    "o incluso colocar elementos HTML\n",
    "\n",
    "<div style=\"border: 2px solid #4CAF50; border-radius: 10px; padding: 20px; max-width: 300px; background-color: #f4f4f9; text-align: center; box-shadow: 0 4px 8px rgba(0, 0, 0, 0.1);\">\n",
    "  <h2 style=\"color: #4CAF50; font-family: Arial, sans-serif;\">¡Hola, soy un ejemplo!</h2>\n",
    "  <p style=\"color: #555; font-size: 16px; font-family: Arial, sans-serif;\">Este es un ejemplo de un elemento HTML con estilo CSS embebido. Puedes usar este tipo de contenido en tus archivos Markdown para hacerlo más atractivo.</p>\n",
    "  <a href=\"https://edwinsaul.com\" style=\"display: inline-block; padding: 10px 20px; background-color: #4CAF50; color: white; text-decoration: none; border-radius: 5px; font-family: Arial, sans-serif;\">Visita mi página</a>\n",
    "</div>\n"
   ]
  }
 ],
 "metadata": {
  "kernelspec": {
   "display_name": "Python 3 (ipykernel)",
   "language": "python",
   "name": "python3"
  },
  "language_info": {
   "codemirror_mode": {
    "name": "ipython",
    "version": 3
   },
   "file_extension": ".py",
   "mimetype": "text/x-python",
   "name": "python",
   "nbconvert_exporter": "python",
   "pygments_lexer": "ipython3",
   "version": "3.13.2"
  }
 },
 "nbformat": 4,
 "nbformat_minor": 5
}
