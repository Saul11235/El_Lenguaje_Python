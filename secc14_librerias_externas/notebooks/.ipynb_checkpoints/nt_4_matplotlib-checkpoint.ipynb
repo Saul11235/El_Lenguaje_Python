{
 "cells": [
  {
   "cell_type": "markdown",
   "id": "32131f1c-156c-44e4-bbca-6fec34697ccd",
   "metadata": {},
   "source": [
    "# Explorando algunas caracteristicas de Numpy\n",
    "\n",
    " <img src=\"https://upload.wikimedia.org/wikipedia/commons/thumb/3/31/NumPy_logo_2020.svg/512px-NumPy_logo_2020.svg.png\" alt=\"Logo de NumPy\" width=\"400\">\n",
    "\n"
   ]
  },
  {
   "cell_type": "code",
   "execution_count": 2,
   "id": "3039f942-da14-4d34-8853-a099940eac0b",
   "metadata": {},
   "outputs": [],
   "source": [
    "# importando numpy\n",
    "import numpy as np"
   ]
  },
  {
   "cell_type": "code",
   "execution_count": 3,
   "id": "416cd879-aea4-4a79-93f9-ec89d50c4bb2",
   "metadata": {},
   "outputs": [
    {
     "name": "stdout",
     "output_type": "stream",
     "text": [
      "1. Creación de arrays:\n",
      "Array 1D: [1 2 3 4 5]\n",
      "Array 2D:\n",
      "[[1 2 3]\n",
      " [4 5 6]]\n",
      "\n",
      "\n"
     ]
    }
   ],
   "source": [
    "# 1. Creación de arrays\n",
    "print(\"1. Creación de arrays:\")\n",
    "arr_1d = np.array([1, 2, 3, 4, 5])  # Array unidimensional\n",
    "arr_2d = np.array([[1, 2, 3], [4, 5, 6]])  # Array bidimensional\n",
    "print(\"Array 1D:\", arr_1d)\n",
    "print(\"Array 2D:\")\n",
    "print(arr_2d)\n",
    "print(\"\\n\")"
   ]
  },
  {
   "cell_type": "code",
   "execution_count": 4,
   "id": "0dd0763a-b7ab-42a5-916d-266823003697",
   "metadata": {},
   "outputs": [
    {
     "name": "stdout",
     "output_type": "stream",
     "text": [
      "2. Operaciones aritméticas (con arrays):\n",
      "Array 1D + 10: [11 12 13 14 15]\n",
      "Array 1D * 2: [ 2  4  6  8 10]\n",
      "Producto punto de arr_2d y su transpuesta:\n",
      "[[14 32]\n",
      " [32 77]]\n",
      "\n",
      "\n"
     ]
    }
   ],
   "source": [
    "# 2. Operaciones aritméticas\n",
    "print(\"2. Operaciones aritméticas (con arrays):\")\n",
    "arr_1d = np.array([1, 2, 3, 4, 5])\n",
    "arr_2d = np.array([[1, 2, 3], [4, 5, 6]])\n",
    "\n",
    "sum_arr = arr_1d + 10  # Sumar un escalar\n",
    "print(\"Array 1D + 10:\", sum_arr)\n",
    "\n",
    "arr_mul = arr_1d * 2  # Multiplicar por un escalar\n",
    "print(\"Array 1D * 2:\", arr_mul)\n",
    "\n",
    "arr_dot = np.dot(arr_2d, arr_2d.T)  # Producto punto\n",
    "print(\"Producto punto de arr_2d y su transpuesta:\")\n",
    "print(arr_dot)\n",
    "print(\"\\n\")"
   ]
  }
 ],
 "metadata": {
  "kernelspec": {
   "display_name": "Python 3 (ipykernel)",
   "language": "python",
   "name": "python3"
  },
  "language_info": {
   "codemirror_mode": {
    "name": "ipython",
    "version": 3
   },
   "file_extension": ".py",
   "mimetype": "text/x-python",
   "name": "python",
   "nbconvert_exporter": "python",
   "pygments_lexer": "ipython3",
   "version": "3.13.2"
  }
 },
 "nbformat": 4,
 "nbformat_minor": 5
}
