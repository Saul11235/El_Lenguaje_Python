{
 "cells": [
  {
   "cell_type": "markdown",
   "id": "32131f1c-156c-44e4-bbca-6fec34697ccd",
   "metadata": {},
   "source": [
    "# Explorando algunas caracteristicas de Scipy\n",
    "\n",
    " <img src=\"https://media2.dev.to/dynamic/image/width=1000,height=420,fit=cover,gravity=auto,format=auto/https%3A%2F%2Fdev-to-uploads.s3.amazonaws.com%2Fuploads%2Farticles%2Fxm36iqima49zxbqsr8ma.jpg\" alt=\"Logo de scipy\" width=\"400\">\n",
    "\n"
   ]
  },
  {
   "cell_type": "code",
   "execution_count": 1,
   "id": "3a8bece7-cda2-4762-9d70-4c908ae74859",
   "metadata": {},
   "outputs": [],
   "source": [
    "import numpy as np\n",
    "import scipy.optimize as opt\n",
    "import scipy.integrate as integrate\n",
    "import scipy.linalg as linalg\n",
    "import scipy.interpolate as interp\n",
    "import matplotlib.pyplot as plt"
   ]
  },
  {
   "cell_type": "code",
   "execution_count": 2,
   "id": "15780cf1-8962-4696-ab25-bc2e1cc5a18b",
   "metadata": {},
   "outputs": [
    {
     "name": "stdout",
     "output_type": "stream",
     "text": [
      "\n",
      "Optimización:\n",
      "Mínimo encontrado: [-1.30644012], valor de la función: -7.945823375615215\n"
     ]
    }
   ],
   "source": [
    "# 1. Optimización: Minimización de una función\n",
    "def func_to_minimize(x):\n",
    "    return x**2 + 10*np.sin(x)\n",
    "\n",
    "# Encontramos el mínimo de la función\n",
    "result = opt.minimize(func_to_minimize, 0)  # Empieza la búsqueda desde x=0\n",
    "print(\"\\nOptimización:\")\n",
    "print(f\"Mínimo encontrado: {result.x}, valor de la función: {result.fun}\")"
   ]
  },
  {
   "cell_type": "code",
   "execution_count": 3,
   "id": "12e80d16-8439-421d-8320-84d332aadac4",
   "metadata": {},
   "outputs": [
    {
     "name": "stdout",
     "output_type": "stream",
     "text": [
      "\n",
      "Integración:\n",
      "Resultado de la integral entre 0 y 1: 0.7468241328124271, error estimado: 8.291413475940725e-15\n"
     ]
    }
   ],
   "source": [
    "# 2. Integración: Integración numérica de una función\n",
    "def integrand(x):\n",
    "    return np.exp(-x**2)\n",
    "\n",
    "# Integrar la función entre 0 y 1\n",
    "integral, error = integrate.quad(integrand, 0, 1)\n",
    "print(\"\\nIntegración:\")\n",
    "print(f\"Resultado de la integral entre 0 y 1: {integral}, error estimado: {error}\")"
   ]
  },
  {
   "cell_type": "code",
   "execution_count": 4,
   "id": "49727b18-13db-44da-8492-c0aab7105309",
   "metadata": {},
   "outputs": [
    {
     "name": "stdout",
     "output_type": "stream",
     "text": [
      "\n",
      "Álgebra Lineal:\n",
      "Solución del sistema Ax = b: [2. 3.]\n"
     ]
    }
   ],
   "source": [
    "# 3. Álgebra lineal: Resolución de sistemas lineales\n",
    "A = np.array([[3, 1], [1, 2]])\n",
    "b = np.array([9, 8])\n",
    "\n",
    "# Resolviendo el sistema Ax = b\n",
    "x_solution = linalg.solve(A, b)\n",
    "print(\"\\nÁlgebra Lineal:\")\n",
    "print(f\"Solución del sistema Ax = b: {x_solution}\")"
   ]
  },
  {
   "cell_type": "code",
   "execution_count": 5,
   "id": "712ee04f-6fdf-4d8a-b766-c9260e8839cc",
   "metadata": {},
   "outputs": [
    {
     "name": "stdout",
     "output_type": "stream",
     "text": [
      "\n",
      "Interpolación:\n",
      "Valor interpolado en x=2.5: 6.25\n"
     ]
    }
   ],
   "source": [
    "# 4. Interpolación: Interpolación polinómica\n",
    "# Definir algunos puntos de datos\n",
    "x_data = np.array([1, 2, 3, 4])\n",
    "y_data = np.array([1, 4, 9, 16])\n",
    "\n",
    "# Crear un interpolador cúbico\n",
    "cubic_interpolator = interp.CubicSpline(x_data, y_data)\n",
    "\n",
    "# Evaluar el interpolador en un nuevo punto\n",
    "y_interpolated = cubic_interpolator(2.5)\n",
    "print(\"\\nInterpolación:\")\n",
    "print(f\"Valor interpolado en x=2.5: {y_interpolated}\")"
   ]
  },
  {
   "cell_type": "code",
   "execution_count": 6,
   "id": "cf70a58c-a56c-4163-8e86-7e6242fb7a52",
   "metadata": {},
   "outputs": [
    {
     "name": "stdout",
     "output_type": "stream",
     "text": [
      "\n",
      "Raíz de la función:\n",
      "Raíz encontrada: [0.73908513]\n"
     ]
    }
   ],
   "source": [
    "# 5. Optimización: Encontrar raíces de una función\n",
    "def func_to_find_root(x):\n",
    "    return np.cos(x) - x\n",
    "\n",
    "# Encontrar la raíz de la función\n",
    "root_result = opt.root(func_to_find_root, 0.5)\n",
    "print(\"\\nRaíz de la función:\")\n",
    "print(f\"Raíz encontrada: {root_result.x}\")"
   ]
  },
  {
   "cell_type": "code",
   "execution_count": 7,
   "id": "54d43212-38c0-44f0-a519-d36f3bfc28b3",
   "metadata": {},
   "outputs": [
    {
     "data": {
      "image/png": "[encoded data removed]",
      "text/plain": [
       "<Figure size 800x600 with 1 Axes>"
      ]
     },
     "metadata": {},
     "output_type": "display_data"
    }
   ],
   "source": [
    "# 6. Generación de números aleatorios: Distribución normal\n",
    "random_values = np.random.normal(0, 1, 1000)\n",
    "\n",
    "# Graficar un histograma de los valores aleatorios\n",
    "plt.figure(figsize=(8, 6))\n",
    "plt.hist(random_values, bins=30, density=True, alpha=0.6, color='b')\n",
    "plt.title('Histograma de valores aleatorios (Distribución Normal)')\n",
    "plt.xlabel('Valor')\n",
    "plt.ylabel('Densidad')\n",
    "plt.show()"
   ]
  }
 ],
 "metadata": {
  "kernelspec": {
   "display_name": "Python 3 (ipykernel)",
   "language": "python",
   "name": "python3"
  },
  "language_info": {
   "codemirror_mode": {
    "name": "ipython",
    "version": 3
   },
   "file_extension": ".py",
   "mimetype": "text/x-python",
   "name": "python",
   "nbconvert_exporter": "python",
   "pygments_lexer": "ipython3",
   "version": "3.13.2"
  }
 },
 "nbformat": 4,
 "nbformat_minor": 5
}
