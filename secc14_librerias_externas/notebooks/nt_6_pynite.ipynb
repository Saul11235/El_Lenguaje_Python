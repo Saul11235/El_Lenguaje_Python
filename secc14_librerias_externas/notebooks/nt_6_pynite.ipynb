{
 "cells": [
  {
   "attachments": {},
   "cell_type": "markdown",
   "id": "32131f1c-156c-44e4-bbca-6fec34697ccd",
   "metadata": {},
   "source": [
    "# Esta es una librería de especialidad\n",
    "Pynite es una librería para Análisis estructural\n",
    "\n",
    " <img src=\"https://pynite.readthedocs.io/en/latest/_images/TransparentLogo.png\" width=\"150\">\n",
    "\n",
    " ## ¿Qué es PyNite?\n",
    "\n",
    "**PyNite** es una biblioteca de Python que permite modelar y resolver:\n",
    "\n",
    "- Estructuras 3D de marcos y vigas\n",
    "- Elementos de barra (axial)\n",
    "- Cargas puntuales, distribuidas y térmicas\n",
    "- Soportes empotrados, rodillos, articulaciones, etc.\n",
    "- Análisis estático lineal y no lineal\n",
    "\n",
    "Es ideal para ingenieros civiles, mecánicos o estructurales que deseen realizar análisis estructurales sin software comercial costoso.\n",
    "\n",
    "---\n",
    "\n",
    "## Instalación\n",
    "\n",
    "Puedes instalar PyNite directamente desde PyPI usando `pip`:\n",
    "\n",
    "```\n",
    "pip install PyNiteFEA\n",
    "```\n",
    "\n",
    "En caso de que se desee ejecutar PyNite en jupyter notebooks se recomienda instalar ademas:\n",
    "\n",
    "```\n",
    "pip install pandoc\n",
    "pip install 'pyvista[jupyter]'\n",
    "```"
   ]
  },
  {
   "cell_type": "code",
   "execution_count": 19,
   "id": "3039f942-da14-4d34-8853-a099940eac0b",
   "metadata": {},
   "outputs": [],
   "source": [
    "# ---------------------------------------------\n",
    "#\n",
    "# archivo de ejemplo modelo estructural\n",
    "#\n",
    "# ---------------------------------------------\n",
    "\n",
    "# ejemplo de aplicacion\n",
    "from Pynite.FEModel3D import  FEModel3D \n",
    "\n",
    "# crearemos un objeto modelo\n",
    "modelo = FEModel3D()\n",
    "\n",
    "#                   +----------+--------+--------+---------+----------+\n",
    "#                   | Nombre   | Módulo | Módulo | Módulo  | Densidad |\n",
    "#                   | Material | Elast  | Corte  | Poisson |          |\n",
    "#                   +----------+--------+--------+---------+----------+\n",
    "\n",
    "modelo.add_material( 'Acero'   , 29000  , 11200  ,  0.30   , 2.836e-4 )\n",
    "\n",
    "#                   +----------+--------+-----------+-----------+----------+\n",
    "#                   | Nombre   | Area   | Iz        | Iy        | J        |\n",
    "#                   | Sección  |        | Inercia-z | Inercia-y | Torsion  |\n",
    "#                   +----------+--------+-----------+-----------+----------+\n",
    "modelo.add_section('MiSeccion' , 20     , 100       , 150       , 250      )\n",
    "\n",
    "# Definiendo nodos\n",
    "#               +---------+-------+-------+-------+ \n",
    "#               | N. Nodo |   X   |   Y   |   Z   |   \n",
    "#               +---------+-------+-------+-------+\n",
    "modelo.add_node(   'N0'   , 0     , 0     , 0     )\n",
    "modelo.add_node(   'N1'   , 100   , 0     , 0     )\n",
    "\n",
    "# Definiendo elementos\n",
    "#                   +----------+---------+--------+----------+----------+\n",
    "#                   | Nombre   | Nodo    | Nodo   | Nombre   | Nombre   |\n",
    "#                   | Elemento | inicial | Final  | Material | Sección  |\n",
    "#                   +----------+---------+--------+----------+----------+\n",
    "modelo.add_member(  'ELEM1'    , 'N0'    , 'N1'   , 'Acero'  , 'MiSeccion')\n",
    "\n",
    "# Definiendo apoyos\n",
    "#                 +---------+------+------+------+------+------+------+\n",
    "#                 | N. Nodo |  DX  |  DY  |  DZ  |  RX  |  RY  |  RZ  |   \n",
    "#                 +---------+------+------+------+------+------+------+\n",
    "modelo.def_support('N0'     ,True  ,True  ,True  ,True  ,True  ,True  )\n",
    "\n",
    "# Carga nodo\n",
    "modelo.add_node_load('N1' , 'FY', 200 )\n",
    "\n",
    "# realiza el analsis\n",
    "modelo.analyze()"
   ]
  },
  {
   "cell_type": "markdown",
   "id": "43f47685-a544-423c-b41b-45501884d5c1",
   "metadata": {},
   "source": [
    "# Veremos información del modelo\n",
    "en este caso analizaremos la variable modelo "
   ]
  },
  {
   "cell_type": "code",
   "execution_count": 24,
   "id": "12f093d4-dc4f-4bec-bbfb-aa5aea14c217",
   "metadata": {},
   "outputs": [
    {
     "data": {
      "text/plain": [
       "array([[ 0.        ],\n",
       "       [ 0.        ],\n",
       "       [ 0.        ],\n",
       "       [ 0.        ],\n",
       "       [ 0.        ],\n",
       "       [ 0.        ],\n",
       "       [ 0.        ],\n",
       "       [15.3256705 ],\n",
       "       [-0.        ],\n",
       "       [ 0.        ],\n",
       "       [ 0.        ],\n",
       "       [ 0.22988506]])"
      ]
     },
     "execution_count": 24,
     "metadata": {},
     "output_type": "execute_result"
    }
   ],
   "source": [
    "# ver vector de desplazamientos\n",
    "modelo.D()"
   ]
  },
  {
   "cell_type": "code",
   "execution_count": 28,
   "id": "9d19cda0-786d-4cdd-a41a-9a30d8467fe1",
   "metadata": {},
   "outputs": [
    {
     "name": "stdout",
     "output_type": "stream",
     "text": [
      "[[0.]\n",
      " [0.]\n",
      " [0.]\n",
      " [0.]\n",
      " [0.]\n",
      " [0.]\n",
      " [0.]\n",
      " [0.]\n",
      " [0.]\n",
      " [0.]\n",
      " [0.]\n",
      " [0.]]\n"
     ]
    }
   ],
   "source": [
    "# ver vector de reacciones\n",
    "print(modelo.FER()) "
   ]
  },
  {
   "cell_type": "code",
   "execution_count": 29,
   "id": "79fc83c5-97ba-41d4-81d4-0806ce4571c1",
   "metadata": {},
   "outputs": [
    {
     "name": "stdout",
     "output_type": "stream",
     "text": [
      "<COOrdinate sparse matrix of dtype 'float64'\n",
      "\twith 144 stored elements and shape (12, 12)>\n",
      "  Coords\tValues\n",
      "  (0, 0)\t5800.0\n",
      "  (0, 1)\t0.0\n",
      "  (0, 2)\t0.0\n",
      "  (0, 3)\t0.0\n",
      "  (0, 4)\t0.0\n",
      "  (0, 5)\t0.0\n",
      "  (0, 6)\t-5800.0\n",
      "  (0, 7)\t0.0\n",
      "  (0, 8)\t0.0\n",
      "  (0, 9)\t0.0\n",
      "  (0, 10)\t0.0\n",
      "  (0, 11)\t0.0\n",
      "  (1, 0)\t0.0\n",
      "  (1, 1)\t52.2\n",
      "  (1, 2)\t0.0\n",
      "  (1, 3)\t0.0\n",
      "  (1, 4)\t0.0\n",
      "  (1, 5)\t2610.0\n",
      "  (1, 6)\t0.0\n",
      "  (1, 7)\t-52.2\n",
      "  (1, 8)\t0.0\n",
      "  (1, 9)\t0.0\n",
      "  (1, 10)\t0.0\n",
      "  (1, 11)\t2610.0\n",
      "  (2, 0)\t0.0\n",
      "  :\t:\n",
      "  (9, 11)\t0.0\n",
      "  (10, 0)\t0.0\n",
      "  (10, 1)\t0.0\n",
      "  (10, 2)\t-1740.0\n",
      "  (10, 3)\t0.0\n",
      "  (10, 4)\t58000.0\n",
      "  (10, 5)\t0.0\n",
      "  (10, 6)\t0.0\n",
      "  (10, 7)\t0.0\n",
      "  (10, 8)\t1740.0\n",
      "  (10, 9)\t0.0\n",
      "  (10, 10)\t116000.0\n",
      "  (10, 11)\t0.0\n",
      "  (11, 0)\t0.0\n",
      "  (11, 1)\t2610.0\n",
      "  (11, 2)\t0.0\n",
      "  (11, 3)\t0.0\n",
      "  (11, 4)\t0.0\n",
      "  (11, 5)\t87000.0\n",
      "  (11, 6)\t0.0\n",
      "  (11, 7)\t-2610.0\n",
      "  (11, 8)\t0.0\n",
      "  (11, 9)\t0.0\n",
      "  (11, 10)\t0.0\n",
      "  (11, 11)\t174000.0\n"
     ]
    }
   ],
   "source": [
    "# ver matriz de rigidez\n",
    "print(modelo.K())\n"
   ]
  }
 ],
 "metadata": {
  "kernelspec": {
   "display_name": "Python 3 (ipykernel)",
   "language": "python",
   "name": "python3"
  },
  "language_info": {
   "codemirror_mode": {
    "name": "ipython",
    "version": 3
   },
   "file_extension": ".py",
   "mimetype": "text/x-python",
   "name": "python",
   "nbconvert_exporter": "python",
   "pygments_lexer": "ipython3",
   "version": "3.13.2"
  }
 },
 "nbformat": 4,
 "nbformat_minor": 5
}
