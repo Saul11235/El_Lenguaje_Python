{
 "cells": [
  {
   "cell_type": "markdown",
   "id": "32131f1c-156c-44e4-bbca-6fec34697ccd",
   "metadata": {},
   "source": [
    "# Explorando algunas caracteristicas de Scipy\n",
    "\n",
    " <img src=\"https://media.licdn.com/dms/image/v2/D4D12AQELmHDR85Un1Q/article-cover_image-shrink_600_2000/article-cover_image-shrink_600_2000/0/1683096619215?e=2147483647&v=beta&t=YdjkdiEFLFimO6oaSxjWeyHY488VuiM__K0OeH1vHbs\" alt=\"Logo de scipy\" width=\"400\">\n",
    "\n"
   ]
  },
  {
   "cell_type": "code",
   "execution_count": 2,
   "id": "3039f942-da14-4d34-8853-a099940eac0b",
   "metadata": {},
   "outputs": [],
   "source": [
    "# importando numpy\n",
    "import numpy as np"
   ]
  },
  {
   "cell_type": "code",
   "execution_count": 3,
   "id": "416cd879-aea4-4a79-93f9-ec89d50c4bb2",
   "metadata": {},
   "outputs": [
    {
     "name": "stdout",
     "output_type": "stream",
     "text": [
      "1. Creación de arrays:\n",
      "Array 1D: [1 2 3 4 5]\n",
      "Array 2D:\n",
      "[[1 2 3]\n",
      " [4 5 6]]\n",
      "\n",
      "\n"
     ]
    }
   ],
   "source": [
    "# 1. Creación de arrays\n",
    "print(\"1. Creación de arrays:\")\n",
    "arr_1d = np.array([1, 2, 3, 4, 5])  # Array unidimensional\n",
    "arr_2d = np.array([[1, 2, 3], [4, 5, 6]])  # Array bidimensional\n",
    "print(\"Array 1D:\", arr_1d)\n",
    "print(\"Array 2D:\")\n",
    "print(arr_2d)\n",
    "print(\"\\n\")"
   ]
  },
  {
   "cell_type": "code",
   "execution_count": 4,
   "id": "0dd0763a-b7ab-42a5-916d-266823003697",
   "metadata": {},
   "outputs": [
    {
     "name": "stdout",
     "output_type": "stream",
     "text": [
      "2. Operaciones aritméticas (con arrays):\n",
      "Array 1D + 10: [11 12 13 14 15]\n",
      "Array 1D * 2: [ 2  4  6  8 10]\n",
      "Producto punto de arr_2d y su transpuesta:\n",
      "[[14 32]\n",
      " [32 77]]\n",
      "\n",
      "\n"
     ]
    }
   ],
   "source": [
    "# 2. Operaciones aritméticas\n",
    "print(\"2. Operaciones aritméticas (con arrays):\")\n",
    "arr_1d = np.array([1, 2, 3, 4, 5])\n",
    "arr_2d = np.array([[1, 2, 3], [4, 5, 6]])\n",
    "\n",
    "sum_arr = arr_1d + 10  # Sumar un escalar\n",
    "print(\"Array 1D + 10:\", sum_arr)\n",
    "\n",
    "arr_mul = arr_1d * 2  # Multiplicar por un escalar\n",
    "print(\"Array 1D * 2:\", arr_mul)\n",
    "\n",
    "arr_dot = np.dot(arr_2d, arr_2d.T)  # Producto punto\n",
    "print(\"Producto punto de arr_2d y su transpuesta:\")\n",
    "print(arr_dot)\n",
    "print(\"\\n\")"
   ]
  },
  {
   "cell_type": "code",
   "execution_count": 5,
   "id": "b2ffba5b-54d3-4dc7-9fbf-f85137f903e0",
   "metadata": {},
   "outputs": [
    {
     "name": "stdout",
     "output_type": "stream",
     "text": [
      "3. Funciones estadísticas:\n",
      "Array de valores aleatorios: [0.42918608 0.18153139 0.78260044 0.08136527 0.09299774 0.52273134\n",
      " 0.50157647 0.468119   0.58022114 0.13800448]\n",
      "Promedio de arr_random: 0.37783333275109005\n",
      "Desviación estándar de arr_random: 0.22736987530485198\n",
      "Máximo de arr_random: 0.7826004403846987\n",
      "Mínimo de arr_random: 0.0813652653663266\n",
      "\n",
      "\n"
     ]
    }
   ],
   "source": [
    "# 3. Funciones estadísticas\n",
    "print(\"3. Funciones estadísticas:\")\n",
    "arr_random = np.random.rand(10)  # Array con valores aleatorios entre 0 y 1\n",
    "print(\"Array de valores aleatorios:\", arr_random)\n",
    "\n",
    "print(\"Promedio de arr_random:\", np.mean(arr_random))\n",
    "print(\"Desviación estándar de arr_random:\", np.std(arr_random))\n",
    "print(\"Máximo de arr_random:\", np.max(arr_random))\n",
    "print(\"Mínimo de arr_random:\", np.min(arr_random))\n",
    "print(\"\\n\")"
   ]
  }
 ],
 "metadata": {
  "kernelspec": {
   "display_name": "Python 3 (ipykernel)",
   "language": "python",
   "name": "python3"
  },
  "language_info": {
   "codemirror_mode": {
    "name": "ipython",
    "version": 3
   },
   "file_extension": ".py",
   "mimetype": "text/x-python",
   "name": "python",
   "nbconvert_exporter": "python",
   "pygments_lexer": "ipython3",
   "version": "3.13.2"
  }
 },
 "nbformat": 4,
 "nbformat_minor": 5
}
